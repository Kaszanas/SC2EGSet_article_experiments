{
 "cells": [
  {
   "cell_type": "code",
   "execution_count": null,
   "metadata": {
    "collapsed": true,
    "pycharm": {
     "name": "#%%\n"
    }
   },
   "outputs": [
    {
     "ename": "",
     "evalue": "",
     "output_type": "error",
     "traceback": [
      "\u001b[1;31mRunning cells with 'Python 3.10.2 64-bit ('3.10.2')' requires ipykernel package.\n",
      "\u001b[1;31mRun the following command to install 'ipykernel' into the Python environment. \n",
      "\u001b[1;31mCommand: 'c:/Users/kasza/.pyenv/pyenv-win/versions/3.10.2/python.exe -m pip install ipykernel -U --force-reinstall'"
     ]
    }
   ],
   "source": [
    "import pandas as pd\n",
    "from sklearn.model_selection import cross_val_score\n",
    "from sklearn.model_selection import KFold\n",
    "from sklearn.linear_model import LogisticRegression\n",
    "from sklearn import preprocessing, svm\n",
    "import numpy as np\n",
    "\n",
    "import matplotlib.pyplot as plt\n",
    "\n",
    "import xgboost\n",
    "\n",
    "\n",
    "pd.options.display.float_format = '{:.2f}'.format\n",
    "\n",
    "df = pd.read_csv('sc2egset.csv')"
   ]
  },
  {
   "cell_type": "code",
   "execution_count": null,
   "metadata": {
    "collapsed": false,
    "pycharm": {
     "name": "#%%\n"
    }
   },
   "outputs": [
    {
     "ename": "",
     "evalue": "",
     "output_type": "error",
     "traceback": [
      "\u001b[1;31mRunning cells with 'Python 3.10.2 64-bit ('3.10.2')' requires ipykernel package.\n",
      "\u001b[1;31mRun the following command to install 'ipykernel' into the Python environment. \n",
      "\u001b[1;31mCommand: 'c:/Users/kasza/.pyenv/pyenv-win/versions/3.10.2/python.exe -m pip install ipykernel -U --force-reinstall'"
     ]
    }
   ],
   "source": [
    "# Filter out short matches and convert outcome values to int\n",
    "df = df[(df.outcome.isin(['Win', 'Loss'])) & (df.game_time_gameloop > 12000)]\n",
    "df['outcome'] = [1 if i == 'Win' else 0 for i in df.outcome]"
   ]
  },
  {
   "cell_type": "code",
   "execution_count": null,
   "metadata": {
    "collapsed": false,
    "pycharm": {
     "name": "#%%\n"
    }
   },
   "outputs": [
    {
     "ename": "",
     "evalue": "",
     "output_type": "error",
     "traceback": [
      "\u001b[1;31mRunning cells with 'Python 3.10.2 64-bit ('3.10.2')' requires ipykernel package.\n",
      "\u001b[1;31mRun the following command to install 'ipykernel' into the Python environment. \n",
      "\u001b[1;31mCommand: 'c:/Users/kasza/.pyenv/pyenv-win/versions/3.10.2/python.exe -m pip install ipykernel -U --force-reinstall'"
     ]
    }
   ],
   "source": [
    "# Filter out errant gameloops and ensure that the match represents only two players\n",
    "grouped = df.groupby('gameloop')['game_hash'].nunique().reset_index()\n",
    "good_loops = grouped[grouped.game_hash > 1000]['gameloop'].tolist()\n",
    "\n",
    "grouped = df.groupby('game_hash')['player_name'].agg(list).reset_index()\n",
    "grouped['player_count'] = [len(set(i)) for i in grouped.player_name]\n",
    "correct_players = grouped[grouped.player_count == 2]['game_hash'].tolist()\n",
    "\n",
    "df = df[(df.gameloop.isin(good_loops)) & (df.game_hash.isin(correct_players))]"
   ]
  },
  {
   "cell_type": "code",
   "execution_count": null,
   "metadata": {
    "collapsed": false,
    "pycharm": {
     "name": "#%%\n"
    }
   },
   "outputs": [
    {
     "ename": "",
     "evalue": "",
     "output_type": "error",
     "traceback": [
      "\u001b[1;31mRunning cells with 'Python 3.10.2 64-bit ('3.10.2')' requires ipykernel package.\n",
      "\u001b[1;31mRun the following command to install 'ipykernel' into the Python environment. \n",
      "\u001b[1;31mCommand: 'c:/Users/kasza/.pyenv/pyenv-win/versions/3.10.2/python.exe -m pip install ipykernel -U --force-reinstall'"
     ]
    }
   ],
   "source": [
    "# Define function to apply all three models to each time point in match, same approach as in classification made for time-aggregated data\n",
    "def timepoint_fit(data, time):\n",
    "\n",
    "    data = data[data.gameloop == time]\n",
    "\n",
    "    model_features = ['foodMade', 'foodUsed', 'mineralsCollectionRate', 'mineralsCurrent', 'mineralsKilledArmy', 'mineralsKilledEconomy',\n",
    "                      'mineralsKilledTechnology', 'mineralsUsedCurrentArmy', 'mineralsUsedCurrentEconomy', 'mineralsUsedCurrentTechnology',\n",
    "                      'vespeneCollectionRate', 'vespeneCurrent', 'vespeneKilledArmy', 'vespeneKilledTechnology',\n",
    "                      'vespeneUsedCurrentArmy', 'vespeneUsedCurrentEconomy', 'vespeneUsedCurrentTechnology', 'workersActiveCount']\n",
    "\n",
    "    min_count = data.outcome.value_counts().min()\n",
    "    df_model = data.groupby('outcome').sample(n=min_count)\n",
    "\n",
    "    random_state = 22\n",
    "\n",
    "    y = np.array(df_model['outcome'], dtype=int)\n",
    "    X = np.asarray(df_model[model_features])\n",
    "    X = preprocessing.StandardScaler().fit(X).transform(X)\n",
    "\n",
    "    cv = KFold(n_splits=5, shuffle=True, random_state=random_state)\n",
    "\n",
    "    xgb = xgboost.XGBClassifier(objective=\"binary:logistic\", booster='gbtree', eta=0.2, max_depth=5, use_label_encoder=False, verbosity=0, random_state=random_state)\n",
    "    xgb_scores = cross_val_score(xgb, X, y, cv=cv, n_jobs=-1)\n",
    "    print(\"XGBoost: %0.4f accuracy with a standard deviation of %0.4f\" % (xgb_scores.mean(), xgb_scores.std()))\n",
    "\n",
    "    sv = svm.SVC(kernel='rbf', C=10, gamma='auto', random_state=random_state)\n",
    "    sv_scores = cross_val_score(sv, X, y, cv=cv, n_jobs=-1)\n",
    "    print(\"SVM: %0.4f accuracy with a standard deviation of %0.4f\" % (sv_scores.mean(), sv_scores.std()))\n",
    "\n",
    "    lr = LogisticRegression(C=10, penalty='l2', random_state=random_state)\n",
    "    lr_scores = cross_val_score(lr, X, y, cv=cv, n_jobs=-1)\n",
    "    print(\"Logistic Regression: %0.4f accuracy with a standard deviation of %0.4f\" % (lr_scores.mean(), lr_scores.std()))\n",
    "\n",
    "    return sv_scores.mean(), sv_scores.std(), lr_scores.mean(), lr_scores.std(), xgb_scores.mean(), xgb_scores.std(), model_features"
   ]
  },
  {
   "cell_type": "code",
   "execution_count": null,
   "metadata": {
    "collapsed": false,
    "pycharm": {
     "name": "#%%\n"
    }
   },
   "outputs": [
    {
     "ename": "",
     "evalue": "",
     "output_type": "error",
     "traceback": [
      "\u001b[1;31mRunning cells with 'Python 3.10.2 64-bit ('3.10.2')' requires ipykernel package.\n",
      "\u001b[1;31mRun the following command to install 'ipykernel' into the Python environment. \n",
      "\u001b[1;31mCommand: 'c:/Users/kasza/.pyenv/pyenv-win/versions/3.10.2/python.exe -m pip install ipykernel -U --force-reinstall'"
     ]
    }
   ],
   "source": [
    "# Apply models to each time point, limiting the max length of the match. Collect outputs for plotting.\n",
    "out_dict = {'gameloop': [], 'sv_accuracy': [], 'sv_std': [], 'lr_accuracy': [], 'lr_std': [], 'xgb_accuracy': [], 'xgb_std': []}\n",
    "\n",
    "filtered_loops = [i for i in good_loops if i <= 20000]\n",
    "for count, loop in enumerate(filtered_loops):\n",
    "    print(\"Processing loop \"+str(count)+\" of \"+str(len(filtered_loops)))\n",
    "    sv_accuracy, sv_std, lr_accuracy, lr_std, xgb_accuracy, xgb_std, features = timepoint_fit(df, loop)\n",
    "    out_dict['gameloop'].append(loop)\n",
    "    out_dict['sv_accuracy'].append(sv_accuracy)\n",
    "    out_dict['sv_std'].append(sv_std)\n",
    "    out_dict['lr_accuracy'].append(lr_accuracy)\n",
    "    out_dict['lr_std'].append(lr_std)\n",
    "    out_dict['xgb_accuracy'].append(xgb_accuracy)\n",
    "    out_dict['xgb_std'].append(xgb_std)"
   ]
  },
  {
   "cell_type": "code",
   "execution_count": null,
   "metadata": {
    "collapsed": false,
    "pycharm": {
     "name": "#%%\n"
    }
   },
   "outputs": [
    {
     "ename": "",
     "evalue": "",
     "output_type": "error",
     "traceback": [
      "\u001b[1;31mRunning cells with 'Python 3.10.2 64-bit ('3.10.2')' requires ipykernel package.\n",
      "\u001b[1;31mRun the following command to install 'ipykernel' into the Python environment. \n",
      "\u001b[1;31mCommand: 'c:/Users/kasza/.pyenv/pyenv-win/versions/3.10.2/python.exe -m pip install ipykernel -U --force-reinstall'"
     ]
    }
   ],
   "source": [
    "# Plot each model's accuracy over time\n",
    "\n",
    "time = [round(i/22.4) if i > 1 else i for i in out_dict['gameloop']]\n",
    "\n",
    "plt.style.use('seaborn-whitegrid')\n",
    "fig, ax = plt.subplots(figsize=(20, 14))\n",
    "\n",
    "ax.plot(time, out_dict['sv_accuracy'], label='Support Vector Machine', linewidth=3)\n",
    "ax.plot(time, out_dict['lr_accuracy'], label='Logistic Regression', linewidth=3)\n",
    "ax.plot(time, out_dict['xgb_accuracy'], label='XGBoost', linewidth=3)\n",
    "\n",
    "ax.set_xlabel('Match Time (seconds)', fontsize=40, labelpad=20, fontdict=dict(weight='bold'))\n",
    "ax.set_ylabel('Accuracy', fontsize=40, labelpad=22, fontdict=dict(weight='bold'))\n",
    "plt.legend(fontsize=28)\n",
    "plt.yticks(fontsize=28)\n",
    "plt.xticks(fontsize=28)\n",
    "plt.savefig('timeseries.pdf', dpi=600)\n",
    "plt.show()"
   ]
  }
 ],
 "metadata": {
  "kernelspec": {
   "display_name": "Python 3.10.2 64-bit ('3.10.2')",
   "language": "python",
   "name": "python3"
  },
  "language_info": {
   "codemirror_mode": {
    "name": "ipython",
    "version": 3
   },
   "file_extension": ".py",
   "mimetype": "text/x-python",
   "name": "python",
   "nbconvert_exporter": "python",
   "pygments_lexer": "ipython3",
   "version": "3.10.2"
  },
  "vscode": {
   "interpreter": {
    "hash": "b789bd3cfc66f1024045e2ad0b51d4ec5a917905d31fbf75b326da7425df1df4"
   }
  }
 },
 "nbformat": 4,
 "nbformat_minor": 0
}
